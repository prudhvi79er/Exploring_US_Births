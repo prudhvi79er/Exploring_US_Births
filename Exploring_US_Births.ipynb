{
 "cells": [
  {
   "cell_type": "code",
   "execution_count": 1,
   "metadata": {
    "collapsed": false
   },
   "outputs": [
    {
     "name": "stdout",
     "output_type": "stream",
     "text": [
      "['year,month,date_of_month,day_of_week,births', '1994,1,1,6,8096', '1994,1,2,7,7772', '1994,1,3,1,10142', '1994,1,4,2,11248', '1994,1,5,3,11053', '1994,1,6,4,11406', '1994,1,7,5,11251', '1994,1,8,6,8653', '1994,1,9,7,7910']\n"
     ]
    }
   ],
   "source": [
    "f = open(\"US_births_1994-2003_CDC_NCHS.csv\", \"r\")\n",
    "data = f.read()\n",
    "rows = data.split(\"\\n\")\n",
    "print(rows[0:10])\n",
    "\n",
    "## year: Year (1994 to 2003).\n",
    "## month: Month (1 to 12).\n",
    "## date_of_month: Day number of the month (1 to 31).\n",
    "## day_of_week: Day of week (1 to 7).\n",
    "## births: Number of births that day."
   ]
  },
  {
   "cell_type": "code",
   "execution_count": 2,
   "metadata": {
    "collapsed": false
   },
   "outputs": [
    {
     "name": "stdout",
     "output_type": "stream",
     "text": [
      "[1994, 1, 1, 6, 8096]\n"
     ]
    }
   ],
   "source": [
    "def read_csv(file_name):\n",
    "    f = open(file_name,\"r\")\n",
    "    data = f.read()\n",
    "    rows = data.split(\"\\n\")\n",
    "    string_list = rows[1:len(rows)]\n",
    "    final_list = []\n",
    "    for variable in string_list:\n",
    "        int_fields = []\n",
    "        string_fields = variable.split(\",\")\n",
    "        for x in string_fields:\n",
    "            int_fields.append(int(x))\n",
    "        final_list.append(int_fields)\n",
    "    return final_list\n",
    "\n",
    "cdc_list = read_csv(\"US_births_1994-2003_CDC_NCHS.csv\")\n",
    "print(cdc_list[0])\n",
    "        \n",
    "    "
   ]
  },
  {
   "cell_type": "code",
   "execution_count": 3,
   "metadata": {
    "collapsed": false
   },
   "outputs": [
    {
     "name": "stdout",
     "output_type": "stream",
     "text": [
      "{1: 3232517, 2: 3018140, 3: 3322069, 4: 3185314, 5: 3350907, 6: 3296530, 7: 3498783, 8: 3525858, 9: 3439698, 10: 3378814, 11: 3171647, 12: 3301860}\n"
     ]
    }
   ],
   "source": [
    "def month_births(input_lst):\n",
    "    births_per_month = {}\n",
    "    for variable in input_lst:\n",
    "        month = variable[1]\n",
    "        birth_count = variable[4]\n",
    "        if month in births_per_month:\n",
    "            births_per_month[month] += birth_count\n",
    "        else:\n",
    "            births_per_month[month] = birth_count\n",
    "    return births_per_month\n",
    "\n",
    "cdc_month_births = month_births(cdc_list)\n",
    "\n",
    "print(cdc_month_births)\n",
    "        \n",
    "        "
   ]
  },
  {
   "cell_type": "code",
   "execution_count": 4,
   "metadata": {
    "collapsed": false
   },
   "outputs": [
    {
     "name": "stdout",
     "output_type": "stream",
     "text": [
      "{1: 5789166, 2: 6446196, 3: 6322855, 4: 6288429, 5: 6233657, 6: 4562111, 7: 4079723}\n"
     ]
    }
   ],
   "source": [
    "def dow_births(input_lst):\n",
    "    births_per_weekday = {}\n",
    "    for variable in input_lst:\n",
    "        weekday = variable[3]\n",
    "        birth_count = variable [4]\n",
    "        if weekday in births_per_weekday:\n",
    "            births_per_weekday[weekday] += birth_count\n",
    "        else:\n",
    "            births_per_weekday[weekday] = birth_count\n",
    "    return births_per_weekday\n",
    "\n",
    "cdc_day_births = dow_births(cdc_list)\n",
    "print(cdc_day_births)\n",
    "    "
   ]
  },
  {
   "cell_type": "code",
   "execution_count": 5,
   "metadata": {
    "collapsed": false
   },
   "outputs": [
    {
     "name": "stdout",
     "output_type": "stream",
     "text": [
      "{2000: 4058814, 2001: 4025933, 2002: 4021726, 2003: 4089950, 1994: 3952767, 1995: 3899589, 1996: 3891494, 1997: 3880894, 1998: 3941553, 1999: 3959417} {1: 3232517, 2: 3018140, 3: 3322069, 4: 3185314, 5: 3350907, 6: 3296530, 7: 3498783, 8: 3525858, 9: 3439698, 10: 3378814, 11: 3171647, 12: 3301860} {1: 1276557, 2: 1288739, 3: 1304499, 4: 1288154, 5: 1299953, 6: 1304474, 7: 1310459, 8: 1312297, 9: 1303292, 10: 1320764, 11: 1314361, 12: 1318437, 13: 1277684, 14: 1320153, 15: 1319171, 16: 1315192, 17: 1324953, 18: 1326855, 19: 1318727, 20: 1324821, 21: 1322897, 22: 1317381, 23: 1293290, 24: 1288083, 25: 1272116, 26: 1284796, 27: 1294395, 28: 1307685, 29: 1223161, 30: 1202095, 31: 746696} {1: 5789166, 2: 6446196, 3: 6322855, 4: 6288429, 5: 6233657, 6: 4562111, 7: 4079723}\n"
     ]
    }
   ],
   "source": [
    "def calc_counts(data, column):\n",
    "    birth_count_dict = {}\n",
    "    for variable in data:\n",
    "        index = variable[column]\n",
    "        birth_count = variable[4]\n",
    "        if index in birth_count_dict:\n",
    "            birth_count_dict[index] += birth_count\n",
    "        else:\n",
    "            birth_count_dict[index] = birth_count\n",
    "    return birth_count_dict\n",
    "\n",
    "cdc_year_births = calc_counts(cdc_list,0)\n",
    "cdc_month_births = calc_counts(cdc_list,1)\n",
    "cdc_dom_births = calc_counts(cdc_list,2)\n",
    "cdc_dow_births = calc_counts(cdc_list,3)\n",
    "\n",
    "print (cdc_year_births, cdc_month_births, cdc_dom_births, cdc_dow_births)"
   ]
  },
  {
   "cell_type": "code",
   "execution_count": 10,
   "metadata": {
    "collapsed": false
   },
   "outputs": [
    {
     "name": "stdout",
     "output_type": "stream",
     "text": [
      "4079723\n"
     ]
    }
   ],
   "source": [
    "def min_max(input_dct, minimum = True):\n",
    "    max = 0\n",
    "    for variable in input_dct:\n",
    "        if max < input_dct[variable]:\n",
    "            max = input_dct[variable]\n",
    "    min = max       \n",
    "    for variable in input_dct:\n",
    "        if min > input_dct[variable]:\n",
    "            min = input_dct[variable]\n",
    "    if minimum == True:\n",
    "        return min\n",
    "    else:\n",
    "        return max\n",
    "\n",
    "a = {1:1, 2:2, 3:3, 4:4}\n",
    "min_cdc_year_births = min_max(cdc_dow_births)\n",
    "\n",
    "print (min_cdc_year_births)\n",
    "\n",
    "\n",
    "\n",
    "        "
   ]
  },
  {
   "cell_type": "code",
   "execution_count": 24,
   "metadata": {
    "collapsed": false
   },
   "outputs": [
    {
     "name": "stdout",
     "output_type": "stream",
     "text": [
      "{'1996-1995': -3527, '2002-2001': -1553, '1997-1996': -2609, '1995-1994': -3231, '1998-1997': 3128, '2001-2000': 2723, '2000-1999': 13053, '1999-1998': 16202, '2003-2002': 5752}\n"
     ]
    }
   ],
   "source": [
    "def calc_counts(data, column):\n",
    "    birth_count_dict = {}\n",
    "    for variable in data:\n",
    "        index = variable[column]\n",
    "        birth_count = variable[4]\n",
    "        if index in birth_count_dict:\n",
    "            birth_count_dict[index] += birth_count\n",
    "        else:\n",
    "            birth_count_dict[index] = birth_count\n",
    "    return birth_count_dict\n",
    "\n",
    "\n",
    "def trend_lookup (data, column, value):\n",
    "    count_dict = {}\n",
    "    for variable in data:\n",
    "        index = variable[0]\n",
    "        birth_count = variable[4]\n",
    "        if variable [column] == value:\n",
    "            if index in count_dict:\n",
    "                count_dict[index] += birth_count\n",
    "            else:\n",
    "                count_dict[index] = birth_count\n",
    "    trend_dict = {}\n",
    "    for x in range(1995, 2004):\n",
    "        diff = count_dict[x]-count_dict[x-1]\n",
    "        year = str(x-1)\n",
    "        next_year = str(x)\n",
    "        index = next_year + \"-\" + year \n",
    "        trend_dict [index] = diff\n",
    "        \n",
    "    return trend_dict\n",
    "    \n",
    "\n",
    "cdc = trend_lookup(cdc_list, 3, 5)\n",
    "\n",
    "print(cdc)\n",
    "            \n",
    "        \n",
    "            \n",
    "        "
   ]
  },
  {
   "cell_type": "code",
   "execution_count": null,
   "metadata": {
    "collapsed": true
   },
   "outputs": [],
   "source": []
  }
 ],
 "metadata": {
  "anaconda-cloud": {},
  "kernelspec": {
   "display_name": "Python 3",
   "language": "python",
   "name": "python3"
  },
  "language_info": {
   "codemirror_mode": {
    "name": "ipython",
    "version": 3
   },
   "file_extension": ".py",
   "mimetype": "text/x-python",
   "name": "python",
   "nbconvert_exporter": "python",
   "pygments_lexer": "ipython3",
   "version": "3.4.3"
  }
 },
 "nbformat": 4,
 "nbformat_minor": 1
}
